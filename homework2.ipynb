{
 "cells": [
  {
   "cell_type": "code",
   "execution_count": 2,
   "metadata": {},
   "outputs": [
    {
     "name": "stdout",
     "output_type": "stream",
     "text": [
      "\n",
      "\u001b[1m[\u001b[0m\u001b[34;49mnotice\u001b[0m\u001b[1;39;49m]\u001b[0m\u001b[39;49m A new release of pip is available: \u001b[0m\u001b[31;49m24.3.1\u001b[0m\u001b[39;49m -> \u001b[0m\u001b[32;49m25.0\u001b[0m\n",
      "\u001b[1m[\u001b[0m\u001b[34;49mnotice\u001b[0m\u001b[1;39;49m]\u001b[0m\u001b[39;49m To update, run: \u001b[0m\u001b[32;49mpip3 install --upgrade pip\u001b[0m\n",
      "Note: you may need to restart the kernel to use updated packages.\n",
      "Requirement already satisfied: python-dotenv in /Library/Frameworks/Python.framework/Versions/3.13/lib/python3.13/site-packages (1.0.1)\n",
      "\n",
      "\u001b[1m[\u001b[0m\u001b[34;49mnotice\u001b[0m\u001b[1;39;49m]\u001b[0m\u001b[39;49m A new release of pip is available: \u001b[0m\u001b[31;49m24.3.1\u001b[0m\u001b[39;49m -> \u001b[0m\u001b[32;49m25.0\u001b[0m\n",
      "\u001b[1m[\u001b[0m\u001b[34;49mnotice\u001b[0m\u001b[1;39;49m]\u001b[0m\u001b[39;49m To update, run: \u001b[0m\u001b[32;49mpip3 install --upgrade pip\u001b[0m\n",
      "Note: you may need to restart the kernel to use updated packages.\n"
     ]
    }
   ],
   "source": [
    "%pip install -U -q google-generativeai\n",
    "%pip install python-dotenv"
   ]
  },
  {
   "cell_type": "code",
   "execution_count": 5,
   "metadata": {},
   "outputs": [],
   "source": [
    "# Importing the libraries.\n",
    "import google.generativeai as genai\n",
    "import os\n",
    "import time\n",
    "from dotenv import load_dotenv\n",
    "\n",
    "# Loading the API key and authenticating to Gemini.\n",
    "load_dotenv()\n",
    "os.environ.get('GOOGLE_API_KEY')\n",
    "\n",
    "# Configuring the API key.\n",
    "genai.configure(api_key = os.environ.get('GOOGLE_API_KEY'))"
   ]
  },
  {
   "cell_type": "code",
   "execution_count": 7,
   "metadata": {},
   "outputs": [],
   "source": [
    "# Gemini Setup\n",
    "\n",
    "instructions = '''\n",
    "You are a coding assistant that codes in Python. Be as Pythonic as possible with your code suggestions. Set a professional tone. Assume that your audience has 10 years of experience with Swift, but only just started Python.\n",
    "'''\n",
    "\n",
    "model = genai.GenerativeModel(\n",
    "    'gemini-1.5-pro',\n",
    "    system_instruction = instructions\n",
    ")\n",
    "\n",
    "chat = model.start_chat(history=[])"
   ]
  },
  {
   "cell_type": "code",
   "execution_count": 8,
   "metadata": {},
   "outputs": [
    {
     "name": "stdout",
     "output_type": "stream",
     "text": [
      "Model: ```python\n",
      "from typing import List\n",
      "\n",
      "def merge_sorted_lists(list1: List[int], list2: List[int]) -> List[int]:\n",
      "    \"\"\"Merges two sorted lists into a new sorted list.\n",
      "\n",
      "    This function efficiently combines two sorted lists \n",
      "    into a single sorted list using the \"two-pointer\" technique,\n",
      "    similar to the merge step in merge sort.  It avoids unnecessary\n",
      "    memory allocation by pre-allocating the result list.\n",
      "\n",
      "    Args:\n",
      "        list1: The first sorted list.\n",
      "        list2: The second sorted list.\n",
      "\n",
      "    Returns:\n",
      "        A new sorted list containing all elements from both input lists.\n",
      "    \"\"\"\n",
      "\n",
      "    merged_list = [0] * (len(list1) + len(list2))  # Pre-allocate for efficiency\n",
      "    i = j = k = 0\n",
      "\n",
      "    while i < len(list1) and j < len(list2):\n",
      "        if list1[i] <= list2[j]:\n",
      "            merged_list[k] = list1[i]\n",
      "            i += 1\n",
      "        else:\n",
      "            merged_list[k] = list2[j]\n",
      "            j += 1\n",
      "        k += 1\n",
      "\n",
      "    # Add any remaining elements from list1\n",
      "    while i < len(list1):\n",
      "        merged_list[k] = list1[i]\n",
      "        i += 1\n",
      "        k += 1\n",
      "\n",
      "    # Add any remaining elements from list2\n",
      "    while j < len(list2):\n",
      "        merged_list[k] = list2[j]\n",
      "        j += 1\n",
      "        k += 1\n",
      "\n",
      "    return merged_list\n",
      "\n",
      "```\n",
      "\n",
      "**Explanation and Pythonic features:**\n",
      "\n",
      "1. **Type Hinting:**  Python's type hinting (`List[int]`) enhances readability and helps catch errors early. It's analogous to Swift's type annotations.\n",
      "\n",
      "2. **Docstrings:**  Clear docstrings explain the function's purpose and usage. These are crucial for maintainability and are somewhat similar to Swift's documentation comments.\n",
      "\n",
      "3. **Pre-allocation:**  `merged_list = [0] * (len(list1) + len(list2))` pre-allocates the result list.  This is generally more efficient than repeatedly appending to a list in Python, as it minimizes memory reallocations.\n",
      "\n",
      "4. **Two-Pointer Technique:**  The core merging logic employs the efficient \"two-pointer\" approach (indices `i` and `j`), much like you'd use in Swift.\n",
      "\n",
      "5. **Concise Looping:** Python's `while` loops handle the merging and remaining element additions elegantly.\n",
      "\n",
      "6. **Return Value:** The function returns a new list, avoiding in-place modification of the input lists.  This is often preferred for functional purity, similar to Swift's approach with value types.\n",
      "\n",
      "\n",
      "This example emphasizes clarity, efficiency, and leverages Python's strengths. It's aimed to be readily understandable for someone coming from a Swift background.  Type hinting, clear documentation, and best-practice approaches like pre-allocation are essential for professional Python code.\n",
      "\n",
      "\n",
      "----------------------------------------------------------------------------------------------------\n",
      "\n",
      "Model: The time complexity of the `merge_sorted_lists` function is **O(m + n)**, where 'm' is the length of `list1` and 'n' is the length of `list2`.\n",
      "\n",
      "**Explanation:**\n",
      "\n",
      "The function iterates through both input lists once in the worst-case scenario. The `while` loops compare elements and add them to the `merged_list`. Each element from both lists is visited and processed exactly once. The remaining element handling loops also contribute linearly to the time complexity, but they don't dominate the overall complexity.\n",
      "\n",
      "Therefore, the dominant operations are directly proportional to the total number of elements across both lists, resulting in a linear time complexity of O(m + n). This is an efficient way to merge sorted lists, just as you would expect from a merge step in a typical merge sort algorithm.\n",
      "\n",
      "\n",
      "----------------------------------------------------------------------------------------------------\n",
      "\n",
      "Model: The space complexity of the provided `merge_sorted_lists` function is **O(m + n)**, where 'm' is the length of `list1` and 'n' is the length of `list2`.\n",
      "\n",
      "**Reasoning:**\n",
      "\n",
      "The primary space usage comes from the `merged_list`, which is pre-allocated to hold all elements from both input lists.  Its size is directly proportional to the sum of the lengths of the input lists (m + n).\n",
      "\n",
      "While there are other variables used (like the index variables `i`, `j`, and `k`), these are of constant size and do not scale with the input size.  Therefore, they don't contribute significantly to the overall space complexity analysis.\n",
      "\n",
      "The dominant factor determining space usage is the `merged_list`, leading to a space complexity of O(m + n). This is a linear space complexity, as the space required grows linearly with the total number of elements being merged.\n",
      "\n",
      "\n",
      "----------------------------------------------------------------------------------------------------\n",
      "\n",
      "Ending Conversation ...\n",
      "Talk to you next time!\n"
     ]
    }
   ],
   "source": [
    "prompt = input('User:')\n",
    "\n",
    "while prompt != 'quit':\n",
    "    response = chat.send_message(prompt)\n",
    "    print(f'{chat.history[-1].role.capitalize()}: {chat.history[-1].parts[0].text}')\n",
    "    print('\\n' + '-' * 100 + '\\n')\n",
    "    prompt = input('User: ')\n",
    "\n",
    "print('Ending Conversation ...')\n",
    "time.sleep(2)\n",
    "print('Talk to you next time!')"
   ]
  },
  {
   "cell_type": "code",
   "execution_count": null,
   "metadata": {},
   "outputs": [],
   "source": []
  },
  {
   "cell_type": "markdown",
   "metadata": {},
   "source": []
  }
 ],
 "metadata": {
  "kernelspec": {
   "display_name": "Python 3",
   "language": "python",
   "name": "python3"
  },
  "language_info": {
   "codemirror_mode": {
    "name": "ipython",
    "version": 3
   },
   "file_extension": ".py",
   "mimetype": "text/x-python",
   "name": "python",
   "nbconvert_exporter": "python",
   "pygments_lexer": "ipython3",
   "version": "3.13.1"
  }
 },
 "nbformat": 4,
 "nbformat_minor": 2
}
