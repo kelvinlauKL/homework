{
 "cells": [
  {
   "cell_type": "code",
   "execution_count": 1,
   "id": "4bd22f31-2b3d-42bd-bd3a-d5571b47c938",
   "metadata": {},
   "outputs": [],
   "source": [
    "import os\n",
    "import openai\n",
    "openai.api_key = os.environ[\"OPENAI_API_KEY\"]\n",
    "model = \"gpt-4o-mini\""
   ]
  },
  {
   "cell_type": "code",
   "execution_count": 2,
   "id": "5a08995c-57f4-447c-885d-ee71bd032d78",
   "metadata": {},
   "outputs": [],
   "source": [
    "from openai import OpenAI\n",
    "\n",
    "client = OpenAI()"
   ]
  },
  {
   "cell_type": "code",
   "execution_count": 3,
   "id": "ca0e52ca-1ce4-4a18-b000-ebf10535c1fd",
   "metadata": {},
   "outputs": [],
   "source": [
    "SYSTEM_PROMPT = (\n",
    "  \"You are a paralegal. You should read through the text and summarize the legal document in a way that high schoolers can understand. You must return a response in JSON format:\"\n",
    "  \"{'facts': <string>, 'analysis': <string>, 'recommendations': <string> }\"\n",
    ")\n",
    "\n",
    "messages = [\n",
    " {\"role\": \"system\", \"content\": SYSTEM_PROMPT}\n",
    "]"
   ]
  },
  {
   "cell_type": "code",
   "execution_count": 4,
   "id": "b0c6153a-8603-4f46-a556-efd86948b2b3",
   "metadata": {},
   "outputs": [],
   "source": [
    "import requests\n",
    "\n",
    "def get_text_from_url(url):\n",
    "    try:\n",
    "        response = requests.get(url)\n",
    "        response.raise_for_status()\n",
    "        return response.text\n",
    "    except requests.exceptions.RequestException as e:\n",
    "        return f\"An error occurred: {e}\""
   ]
  },
  {
   "cell_type": "code",
   "execution_count": null,
   "id": "a64988f2-d390-4658-8d24-aa52b702edc2",
   "metadata": {},
   "outputs": [
    {
     "name": "stdin",
     "output_type": "stream",
     "text": [
      "Please enter the url to a legal document that you want help summarizing:  https://raw.githubusercontent.com/kelvinlauKL/homework/refs/heads/main/test_contract.txt\n"
     ]
    },
    {
     "name": "stdout",
     "output_type": "stream",
     "text": [
      "{\n",
      "    \"facts\": \"This document is an agreement between the Santa Cruz County Regional Transportation Commission (referred to as COMMISSION) and a consultant for specific services. It outlines the duties of the consultant, the compensation structure, terms of the agreement, early termination conditions, requirements for insurance and compliance with laws, and provisions related to nondiscrimination and safety. The agreement is not binding until approved by the COMMISSION's board.\",\n",
      "    \"analysis\": \"The agreement establishes a clear framework for the consultant's role, outlining expectations for performance, reporting, and payments. It includes measures for monitoring progress and addressing any issues. The provisions for early termination provide necessary flexibility for both parties, while the emphasis on indemnification, compliance with laws, and insurance protects the COMMISSION against potential liabilities. The inclusion of explicit requirements for nondiscrimination and safety underscores the commitment to ethical standards.\",\n",
      "    \"recommendations\": \"Both parties should ensure they fully understand the terms of the agreement, especially regarding performance metrics, payment procedures, and compliance with legal obligations. The consultant should maintain detailed records of work and communications to support their invoices and facilitate easier management of the contract. Regular meetings between the consultant and the COMMISSION's representatives can help to address any concerns proactively and ensure mutual understanding.\"\n",
      "}\n",
      "\n"
     ]
    },
    {
     "name": "stdin",
     "output_type": "stream",
     "text": [
      "Do you have any further questions? (type exit to terminate the program):  What if the client goes bankrupt?\n"
     ]
    },
    {
     "name": "stdout",
     "output_type": "stream",
     "text": [
      "{\n",
      "    \"facts\": \"If the client, in this case, the Santa Cruz County Regional Transportation Commission (COMMISSION), goes bankrupt, it may affect the financial obligations outlined in the agreement, including payment for services rendered. Bankruptcy proceedings could lead to the cancellation of contracts, adjustments to payment schedules, or disputes over owed amounts.\",\n",
      "    \"analysis\": \"The agreement may not have specific clauses addressing the scenario of the COMMISSION going bankrupt, which could complicate the recovery of outstanding payments for the consultant. Generally, in bankruptcy, creditors may be paid based on priority levels set by law, and unsecured creditors (like the consultant) may receive less priority for payment. This could significantly impact the consultant's financial expectations and recovery efforts.\",\n",
      "    \"recommendations\": \"To mitigate risks related to client bankruptcy, consultants should consider including clauses in future agreements that address the potential bankruptcy of the client. This could involve provisions for payment security, such as requiring advance payments, or including notice periods for contract termination in the event of bankruptcy. Additionally, consultants should seek to diversify their client base to reduce reliance on any single client and to assess the financial stability of clients before entering into contracts.\"\n",
      "}\n",
      "\n"
     ]
    },
    {
     "name": "stdin",
     "output_type": "stream",
     "text": [
      "Do you have any further questions? (type exit to terminate the program):  What if aliens appear?\n"
     ]
    },
    {
     "name": "stdout",
     "output_type": "stream",
     "text": [
      "{\n",
      "    \"facts\": \"The agreement does not include any provisions regarding the potential appearance of aliens or extraterrestrial life. Legal contracts typically focus on the responsibilities and obligations of the parties involved and the adherence to existing laws, which currently do not contemplate the existence of extraterrestrial entities.\",\n",
      "    \"analysis\": \"The appearance of aliens would create unprecedented circumstances that current legal frameworks are not equipped to handle. It could raise numerous legal questions about liability, jurisdiction, and the rights of both humans and extraterrestrial beings. Existing agreements, such as this one, may require significant renegotiation to address the implications of contact with alien life, leading to potential disruptions in any ongoing projects or services stipulated in the contract.\",\n",
      "    \"recommendations\": \"While the prospect of encountering aliens may seem speculative, it might be worthwhile for legal professionals to consider including hypothetical clauses in contracts that account for unforeseen and extraordinary events. Engaging with experts in space law and international law could provide insights into how to prepare for a legal framework that accommodates such extraordinary circumstances.\"\n",
      "}\n",
      "\n"
     ]
    }
   ],
   "source": [
    "# 1 Gather input URL from the user and perform initial document analysis\n",
    "\n",
    "url_input = input(\"Please enter the url to a legal document that you want help summarizing: \")\n",
    "\n",
    "if url_input.lower() != 'exit':\n",
    "    contract_text = get_text_from_url(url_input)\n",
    "    messages.append({\"role\": \"user\", \"content\": contract_text})\n",
    "    try:\n",
    "        response = client.chat.completions.create(\n",
    "            model=model,\n",
    "            messages=messages,\n",
    "            response_format={\"type\": \"json_object\"},\n",
    "        )\n",
    "\n",
    "        content = response.choices[0].message.content\n",
    "        messages.append({\"role\": \"assistant\", \"content\": content})\n",
    "        print(content)\n",
    "        print()\n",
    "        while True:\n",
    "            user_input = input(\"Do you have any further questions? (type exit to terminate the program): \")\n",
    " \n",
    "            if user_input.lower() == 'exit':\n",
    "                print(\"Exit encountered. Have a nice day!\")\n",
    "                break\n",
    "\n",
    "            messages.append({\"role\": \"user\", \"content\": user_input})\n",
    "\n",
    "            try:\n",
    "                response = client.chat.completions.create(\n",
    "                    model=model,\n",
    "                    messages=messages,\n",
    "                    response_format={\"type\": \"json_object\"},\n",
    "                ) \n",
    "                content = response.choices[0].message.content\n",
    "                messages.append({\"role\": \"assistant\", \"content\": content})\n",
    "                print(content)\n",
    "                print()\n",
    "            except openai.RateLimitError as e:\n",
    "                print(f\"Rate limit exceeded: {e}\")\n",
    "    except openai.RateLimitError as e:\n",
    "        print(f\"Rate limit exceeded: {e}\")\n",
    "else:\n",
    "    print(\"Exit encountered. Have a nice day!\")\n",
    "\n",
    "    \n"
   ]
  },
  {
   "cell_type": "code",
   "execution_count": null,
   "id": "de5aedde-bca4-4d11-8a3b-34c4ba25854e",
   "metadata": {},
   "outputs": [],
   "source": []
  }
 ],
 "metadata": {
  "kernelspec": {
   "display_name": "Python 3 (ipykernel)",
   "language": "python",
   "name": "python3"
  },
  "language_info": {
   "codemirror_mode": {
    "name": "ipython",
    "version": 3
   },
   "file_extension": ".py",
   "mimetype": "text/x-python",
   "name": "python",
   "nbconvert_exporter": "python",
   "pygments_lexer": "ipython3",
   "version": "3.12.0"
  }
 },
 "nbformat": 4,
 "nbformat_minor": 5
}
