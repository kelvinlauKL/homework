{
 "cells": [
  {
   "cell_type": "code",
   "execution_count": 1,
   "id": "4bd22f31-2b3d-42bd-bd3a-d5571b47c938",
   "metadata": {},
   "outputs": [],
   "source": [
    "import os\n",
    "import openai\n",
    "openai.api_key = os.environ[\"OPENAI_API_KEY\"]\n",
    "model = \"gpt-4o-mini\""
   ]
  },
  {
   "cell_type": "code",
   "execution_count": 2,
   "id": "5a08995c-57f4-447c-885d-ee71bd032d78",
   "metadata": {},
   "outputs": [],
   "source": [
    "from openai import OpenAI\n",
    "\n",
    "client = OpenAI()"
   ]
  },
  {
   "cell_type": "code",
   "execution_count": 3,
   "id": "ca0e52ca-1ce4-4a18-b000-ebf10535c1fd",
   "metadata": {},
   "outputs": [],
   "source": [
    "SYSTEM_PROMPT = (\n",
    "  \"You are a paralegal. You should read through the text and summarize the legal document in a way that high schoolers can understand. You must return a response in JSON format:\"\n",
    "  \"{'facts': <string>, 'analysis': <string>, 'recommendations': <string> }\"\n",
    ")\n",
    "\n",
    "messages = [\n",
    " {\"role\": \"system\", \"content\": SYSTEM_PROMPT}\n",
    "]"
   ]
  },
  {
   "cell_type": "code",
   "execution_count": 4,
   "id": "b0c6153a-8603-4f46-a556-efd86948b2b3",
   "metadata": {},
   "outputs": [],
   "source": [
    "import requests\n",
    "\n",
    "def get_text_from_url(url):\n",
    "    try:\n",
    "        response = requests.get(url)\n",
    "        response.raise_for_status()\n",
    "        return response.text\n",
    "    except requests.exceptions.RequestException as e:\n",
    "        return f\"An error occurred: {e}\""
   ]
  },
  {
   "cell_type": "code",
   "execution_count": null,
   "id": "a64988f2-d390-4658-8d24-aa52b702edc2",
   "metadata": {},
   "outputs": [],
   "source": [
    "# 1 Gather input URL from the user and perform initial document analysis\n",
    "\n",
    "url_input = input(\"Please enter the url to a legal document that you want help summarizing: \")\n",
    "\n",
    "if url_input.lower() != 'exit':\n",
    "    contract_text = get_text_from_url(url_input)\n",
    "    messages.append({\"role\": \"user\", \"content\": contract_text})\n",
    "    try:\n",
    "        response = client.chat.completions.create(\n",
    "            model=model,\n",
    "            messages=messages,\n",
    "            response_format={\"type\": \"json_object\"},\n",
    "        )\n",
    "\n",
    "        content = response.choices[0].message.content\n",
    "        messages.append({\"role\": \"assistant\", \"content\": content})\n",
    "        print(content)\n",
    "    except openai.RateLimitError as e:\n",
    "        print(f\"Rate limit exceeded: {e}\")\n",
    "else:\n",
    "    print(\"Encountered exit command. Have a great day!\")\n",
    "\n",
    "# 2 Enable follow up messages\n",
    "    \n",
    "while True:\n",
    "    user_input = input(\"Do you have any further questions? (type exit to terminate the program): \")\n",
    " \n",
    "    if user_input.lower() == 'exit':\n",
    "        break\n",
    "\n",
    "    messages.append({\"role\": \"user\", \"content\": user_input})\n",
    "\n",
    "    try:\n",
    "        response = client.chat.completions.create(\n",
    "            model=model,\n",
    "            messages=messages,\n",
    "            response_format={\"type\": \"json_object\"},\n",
    "        ) \n",
    "        content = response.choices[0].message.content\n",
    "        messages.append({\"role\": \"assistant\", \"content\": content})\n",
    "        print(content)\n",
    "    except openai.RateLimitError as e:\n",
    "        print(f\"Rate limit exceeded: {e}\")"
   ]
  },
  {
   "cell_type": "code",
   "execution_count": null,
   "id": "de5aedde-bca4-4d11-8a3b-34c4ba25854e",
   "metadata": {},
   "outputs": [],
   "source": []
  }
 ],
 "metadata": {
  "kernelspec": {
   "display_name": "Python 3 (ipykernel)",
   "language": "python",
   "name": "python3"
  },
  "language_info": {
   "codemirror_mode": {
    "name": "ipython",
    "version": 3
   },
   "file_extension": ".py",
   "mimetype": "text/x-python",
   "name": "python",
   "nbconvert_exporter": "python",
   "pygments_lexer": "ipython3",
   "version": "3.12.0"
  }
 },
 "nbformat": 4,
 "nbformat_minor": 5
}
